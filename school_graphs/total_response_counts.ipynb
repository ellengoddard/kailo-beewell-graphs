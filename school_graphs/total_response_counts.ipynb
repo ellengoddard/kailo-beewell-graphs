{
 "cells": [
  {
   "cell_type": "markdown",
   "metadata": {},
   "source": [
    "# Standard survey \n",
    "\n",
    "The same total count is used in...\n",
    "\n",
    "## RAG summary: Introduction \n",
    "\n",
    "\"At your school, a total of [number] pupils took part in the #BeeWell survey. This section shows how the answers of pupils at your school compare with pupils from other schools in Northern Devon.\"\n",
    "\n",
    "## RAG summary: Understanding topic scores\n",
    "\n",
    "\"Please note that although a total of [number] pupils from your school took part, the RAG ratings given in this section are based only on responses from pupils who completed all the questions within each topic.\"\n",
    "\n",
    "## Who took part?\n",
    "\n",
    "\"\"There were [number] pupils at your school who took part in the #BeeWell survey. This section describes the sample of pupils who completed the survey.\""
   ]
  },
  {
   "cell_type": "markdown",
   "metadata": {},
   "source": [
    "# Standard survey \n",
    "\n",
    "## For every topic, \"Comparison with other schools\"\n",
    "\n",
    "\"Your school had [number] complete responses. Across Northern Devon, there were [number]] complete responses from [number] schools. The average score for the pupils at your school, compared to other schools in Northern Devon, was:\n",
    "\n",
    "[RAG rating for subgroup]\"\n",
    "\n",
    "\n",
    "* All pupils \n",
    "* By year group (Year 8, Year 10)\n",
    "* By gender (Boys, Girls)\n",
    "* By FSM status (non-FSM, FSM)\n",
    "* By SEN status (non-SEN, SEN)\n"
   ]
  },
  {
   "cell_type": "markdown",
   "metadata": {},
   "source": [
    "# Introduction for both STANDARD and SYMBOL (only needs to be generated once)\n",
    "\n",
    "## About: Who took part in the #BeeWell survey in North Devon?\n",
    "\n",
    "\n",
    "# Standard\n",
    "Check these values:\n",
    "\n",
    "\"This year, 1298 pupils in Years 8 and 10 at five secondary schools from across North Devon and Torridge completed the standard version of the #BeeWell survey. \n",
    "\n",
    "A symbol version of the survey was also completed by 101 pupils in Years 7 to 11 from two non-mainstream schools in Northern Devon.\"\n",
    "\n",
    "\n",
    "# Symbol\n",
    "\n"
   ]
  },
  {
   "cell_type": "markdown",
   "metadata": {},
   "source": [
    "# Symbol survey\n",
    "\n",
    "\n",
    "\n",
    "\n",
    "## Who took part?\n",
    "\n",
    "\"There were 30 pupils at your school who took part in the #BeeWell survey. This page describes the sample of pupils who completed the survey.\""
   ]
  }
 ],
 "metadata": {
  "language_info": {
   "name": "python"
  }
 },
 "nbformat": 4,
 "nbformat_minor": 2
}
